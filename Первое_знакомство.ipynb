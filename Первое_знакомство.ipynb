{
  "nbformat": 4,
  "nbformat_minor": 0,
  "metadata": {
    "colab": {
      "name": "Первое знакомство.ipynb",
      "provenance": [],
      "include_colab_link": true
    },
    "kernelspec": {
      "display_name": "Python 3",
      "language": "python",
      "name": "python3"
    },
    "language_info": {
      "codemirror_mode": {
        "name": "ipython",
        "version": 3
      },
      "file_extension": ".py",
      "mimetype": "text/x-python",
      "name": "python",
      "nbconvert_exporter": "python",
      "pygments_lexer": "ipython3",
      "version": "3.9.1"
    }
  },
  "cells": [
    {
      "cell_type": "markdown",
      "metadata": {
        "id": "view-in-github",
        "colab_type": "text"
      },
      "source": [
        "<a href=\"https://colab.research.google.com/github/d-uni/prac/blob/main/%D0%9F%D0%B5%D1%80%D0%B2%D0%BE%D0%B5_%D0%B7%D0%BD%D0%B0%D0%BA%D0%BE%D0%BC%D1%81%D1%82%D0%B2%D0%BE.ipynb\" target=\"_parent\"><img src=\"https://colab.research.google.com/assets/colab-badge.svg\" alt=\"Open In Colab\"/></a>"
      ]
    },
    {
      "cell_type": "markdown",
      "metadata": {
        "id": "fYHqbNGTMaPq"
      },
      "source": [
        "<p><img alt=\"Colaboratory logo\" height=\"45px\" src=\"/img/colab_favicon.ico\" align=\"left\" hspace=\"10px\" vspace=\"0px\"></p>\n",
        "\n",
        "# Знакомство с Colab\n",
        "---\n",
        "\n",
        "Код в Colab пишется и компилируется в ячейках. Существуют всего 2 типа ячеек:\n",
        "- для текста;\n",
        "- для кода.\n",
        "\n",
        "В текстовых ячейках можно хранить описания к вашим проектам и комментари, дополняя их с помощью **изображений**, набором формул с $\\LaTeX$ и т.д.\n",
        "\n",
        "Для редактирования ячейки нажмите <ins>сюда</ins> 2 раза.\n",
        "\n",
        "<!-- Здорово, не правда ли? -->"
      ]
    },
    {
      "cell_type": "code",
      "metadata": {
        "colab": {
          "base_uri": "https://localhost:8080/"
        },
        "id": "7NPzBgT1KNyc",
        "outputId": "c2c9b79e-6710-4618-99f8-0ad340d99d9a"
      },
      "source": [
        "age = 20\n",
        "print(\"Мне %d лет!\" %age)"
      ],
      "execution_count": null,
      "outputs": [
        {
          "name": "stdout",
          "output_type": "stream",
          "text": [
            "Мне 20 лет!\n"
          ]
        }
      ]
    },
    {
      "cell_type": "code",
      "metadata": {
        "colab": {
          "base_uri": "https://localhost:8080/"
        },
        "id": "px83h-VPj4wz",
        "outputId": "55d37e77-0b0a-457a-d5a8-47bbd4f25bdf"
      },
      "source": [
        "# Также можно вводить команды из терминала\n",
        "# Например, команду для получения информации о библиотеке numpy\n",
        "\n",
        "!pip show numpy"
      ],
      "execution_count": null,
      "outputs": [
        {
          "name": "stdout",
          "output_type": "stream",
          "text": [
            "Name: numpy\n",
            "Version: 1.19.5\n",
            "Summary: NumPy is the fundamental package for array computing with Python.\n",
            "Home-page: https://www.numpy.org\n",
            "Author: Travis E. Oliphant et al.\n",
            "Author-email: None\n",
            "License: BSD\n",
            "Location: /Library/Frameworks/Python.framework/Versions/3.9/lib/python3.9/site-packages\n",
            "Requires: \n",
            "Required-by: vispy, torchvision, torch, tifffile, tensorflow, tensorboard, scipy, scikit-learn, scikit-image, PyWavelets, opt-einsum, opencv-python, opencv-python-headless, napari, napari-svg, matplotlib, Keras, Keras-Preprocessing, Keras-Applications, imgaug, imageio, h5py, albumentations\n"
          ]
        }
      ]
    }
  ]
}